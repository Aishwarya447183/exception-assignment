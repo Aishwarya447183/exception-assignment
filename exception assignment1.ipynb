{
 "cells": [
  {
   "cell_type": "code",
   "execution_count": 1,
   "id": "3ef1eab7-dd32-4f46-83c9-643d4adf75bc",
   "metadata": {},
   "outputs": [],
   "source": [
    "##Q1.An exception is an event, which occurs during the execution of a program that disrupts the normal flow of the program's instructions. In general, when a Python script encounters a situation that it cannot cope with, it raises an exception. An exception is a Python object that represents an error.\n",
    "#difference between Exception and syntax errors\n",
    "#An Exception is an event that occurs during the program execution and disrupts the normal flow of the program's execution. Errors mostly happen at compile-time like syntax error; however it can happen at runtime as well. Whereas an Exception occurs at runtime"
   ]
  },
  {
   "cell_type": "code",
   "execution_count": 2,
   "id": "c38703e4-7c49-47a3-9d1d-e5c72ad142c3",
   "metadata": {},
   "outputs": [],
   "source": [
    "##Q2.\n",
    "#When an exception is not handled, it propagates up the call stack until it reaches the top-level of the program, where it will terminate the program with an error message. This means that any code after the point where the exception was thrown will not be executed.\n",
    "\n",
    "For example, let's say you have the following Python code:\n",
    "\n"
   ]
  },
  {
   "cell_type": "code",
   "execution_count": null,
   "id": "46b993ec-4b21-4c07-af0f-0e8bd0e69be3",
   "metadata": {},
   "outputs": [],
   "source": [
    "def divide(x, y):\n",
    "    return x/y\n",
    "\n",
    "result = divide(10, 0)\n",
    "print(result)"
   ]
  },
  {
   "cell_type": "code",
   "execution_count": null,
   "id": "cb72813c-3b5f-442f-92b6-f9b8a8dffc4e",
   "metadata": {},
   "outputs": [],
   "source": [
    "In this code, the divide function divides the first argument by the second argument. However, if the second argument is zero, a ZeroDivisionError will be thrown. If this exception is not caught by a try-except block, it will propagate up the call stack and terminate the program with an error message like this:\n"
   ]
  },
  {
   "cell_type": "code",
   "execution_count": null,
   "id": "1dd8e9dc-5097-4230-9918-14433a443233",
   "metadata": {},
   "outputs": [],
   "source": [
    "Traceback (most recent call last):\n",
    "  File \"example.py\", line 4, in <module>\n",
    "    result = divide(10, 0)\n",
    "  File \"example.py\", line 2, in divide\n",
    "    return x/y\n",
    "ZeroDivisionError: division by zero"
   ]
  },
  {
   "cell_type": "code",
   "execution_count": null,
   "id": "9deeea11-6453-4d84-be6b-5d74ebbab19e",
   "metadata": {},
   "outputs": [],
   "source": [
    "As you can see, the program terminates with an error message indicating that a ZeroDivisionError was thrown and where it occurred in the code. Any code after the divide function call will not be executed."
   ]
  },
  {
   "cell_type": "code",
   "execution_count": null,
   "id": "80bb4f84-783e-4a58-80f0-bb879b3dad42",
   "metadata": {},
   "outputs": [],
   "source": [
    "##Q3.In Python, you can catch and handle exceptions using the try and except statements. Here's an example:"
   ]
  },
  {
   "cell_type": "code",
   "execution_count": null,
   "id": "76da9aa2-a8a0-4349-8922-75fb026e5f4b",
   "metadata": {},
   "outputs": [],
   "source": [
    "try:\n",
    "    num1 = int(input(\"Enter a number: \"))\n",
    "    num2 = int(input(\"Enter another number: \"))\n",
    "    result = num1 / num2\n",
    "    print(\"The result is:\", result)\n",
    "except ValueError:\n",
    "    print(\"Invalid input. Please enter a number.\")\n",
    "except ZeroDivisionError:\n",
    "    print(\"You cannot divide by zero.\")"
   ]
  },
  {
   "cell_type": "code",
   "execution_count": null,
   "id": "48343c2b-c6ee-48d3-882b-1eaeeed2380a",
   "metadata": {},
   "outputs": [],
   "source": [
    "In this example, the try block contains code that may raise an exception, such as int(input(\"Enter a number: \")) which will raise a ValueError if the user enters something that cannot be converted to an integer. If an exception is raised in the try block, the program will jump to the corresponding except block.\n",
    "\n",
    "If the ValueError exception is raised, the message \"Invalid input. Please enter a number.\" will be printed. If the ZeroDivisionError exception is raised, the message \"You cannot divide by zero.\" will be printed.\n",
    "\n",
    "It's important to note that you can have multiple except blocks to handle different types of exceptions. Also, you can use the finally block to add code that will always execute regardless of whether an exception is raised or not."
   ]
  },
  {
   "cell_type": "code",
   "execution_count": null,
   "id": "2cf4db56-0152-47d6-905b-c041f5062b93",
   "metadata": {},
   "outputs": [],
   "source": [
    "##Q4.In programming, try and else are used as control structures for error handling.\n",
    "\n",
    "The try block contains code that may raise an exception (an error), and the else block contains code that should run if no exception was raised in the try block.\n",
    "\n",
    "Here's an example:"
   ]
  },
  {
   "cell_type": "code",
   "execution_count": null,
   "id": "b3145299-c273-4cbd-b88b-ac09a167f409",
   "metadata": {},
   "outputs": [],
   "source": [
    "try:\n",
    "    x = int(input(\"Enter a number: \"))\n",
    "    y = int(input(\"Enter another number: \"))\n",
    "    z = x / y\n",
    "except ValueError:\n",
    "    print(\"Please enter a valid integer.\")\n",
    "except ZeroDivisionError:\n",
    "    print(\"Cannot divide by zero.\")\n",
    "else:\n",
    "    print(\"The result is:\", z)\n"
   ]
  },
  {
   "cell_type": "code",
   "execution_count": null,
   "id": "dadfc244-28a4-4ac4-92d6-5ffddf360175",
   "metadata": {},
   "outputs": [],
   "source": [
    "In this example, the try block prompts the user to enter two numbers, converts them to integers, and then divides them. If either of the inputs is not an integer or if the second input is zero (which would cause a division by zero error), an exception is raised.\n",
    "\n",
    "The except blocks are used to catch these exceptions and print an appropriate error message. If no exception is raised, the else block executes, which prints the result of the division.\n",
    "\n",
    "So if the user enters 6 and 3, the try block runs without raising any exceptions, and the else block executes, which prints \"The result is: 2.0\". But if the user enters \"hello\" instead of a number, the ValueError exception is raised, and the except block for ValueError executes, printing \"Please enter a valid integer.\""
   ]
  },
  {
   "cell_type": "code",
   "execution_count": null,
   "id": "f76219cb-9dd3-48f2-9e6a-b1ddbe490d89",
   "metadata": {},
   "outputs": [],
   "source": [
    "In Python, finally is a control structure used in exception handling. It allows you to specify code that should always run, regardless of whether an exception was raised or not.\n",
    "\n",
    "Here's an example:"
   ]
  },
  {
   "cell_type": "code",
   "execution_count": null,
   "id": "f5cc352a-8ff3-400a-bd8f-7b27fbb4a0c9",
   "metadata": {},
   "outputs": [],
   "source": [
    "try:\n",
    "    f = open(\"myfile.txt\")\n",
    "    # perform some file operations\n",
    "except IOError:\n",
    "    print(\"Could not open file.\")\n",
    "finally:\n",
    "    f.close()"
   ]
  },
  {
   "cell_type": "code",
   "execution_count": null,
   "id": "2d60dc7a-ad85-4ab7-a4ab-8a32df16b349",
   "metadata": {},
   "outputs": [],
   "source": [
    "In this example, the try block attempts to open a file called \"myfile.txt\" and perform some operations on it. If an IOError exception is raised (for example, if the file does not exist or cannot be opened), the except block executes, printing an error message.\n",
    "\n",
    "However, regardless of whether an exception is raised or not, the finally block always executes, closing the file handle using the close() method. This is important because it ensures that the file is properly closed and any resources associated with it are freed, even if an exception was raised.\n",
    "\n",
    "So, in summary, the finally block is used to specify code that should always run, regardless of whether an exception was raised or not. This can be useful for tasks such as cleaning up resources, closing file handles, and releasing memory."
   ]
  },
  {
   "cell_type": "code",
   "execution_count": null,
   "id": "0c75f2ed-5e81-4f84-ae11-a3aa7fcc7297",
   "metadata": {},
   "outputs": [],
   "source": [
    "In Python, the raise keyword is used to explicitly raise an exception.\n",
    "\n",
    "Here's an example:"
   ]
  },
  {
   "cell_type": "code",
   "execution_count": null,
   "id": "fef26d03-a084-4c68-8ccd-479a798f5165",
   "metadata": {},
   "outputs": [],
   "source": [
    "def divide(x, y):\n",
    "    if y == 0:\n",
    "        raise ValueError(\"Cannot divide by zero.\")\n",
    "    else:\n",
    "        return x / y\n",
    "\n",
    "try:\n",
    "    result = divide(10, 0)\n",
    "except ValueError as e:\n",
    "    print(e)\n",
    "else:\n",
    "    print(\"The result is:\", result)"
   ]
  },
  {
   "cell_type": "code",
   "execution_count": null,
   "id": "56e25790-3aa3-4a82-b1a4-0c90ffe8556b",
   "metadata": {},
   "outputs": [],
   "source": [
    "In this example, the divide() function takes two arguments x and y, and returns the result of dividing x by y. However, if y is zero, a ValueError exception is raised using the raise keyword with a custom error message.\n",
    "\n",
    "In the try block, we call the divide() function with arguments 10 and 0, which should raise a ValueError. We catch the exception using an except block, and print the error message using the print() function.\n",
    "\n",
    "If no exception is raised, the else block executes, which prints the result of the division.\n",
    "\n",
    "So in this example, the raise keyword is used to explicitly raise a ValueError exception if the second argument to the divide() function is zero. This allows us to handle the exception in a custom way, by printing a more informative error message than the default message that would be displayed if a division by zero error occurred."
   ]
  },
  {
   "cell_type": "code",
   "execution_count": null,
   "id": "7e7d7d8e-b080-4c21-9e6d-c69b7e56b8cf",
   "metadata": {},
   "outputs": [],
   "source": [
    "##Q5.Custom Exceptions in Python are user-defined exceptions that extend the built-in Exception class or one of its subclasses. They allow programmers to define their own types of exceptions that are specific to their applications and provide more meaningful and descriptive error messages.\n",
    "\n",
    "We need Custom Exceptions because they allow us to:\n",
    "\n",
    "Provide more detailed and informative error messages that are specific to our application or module.\n",
    "Group related errors under a single exception hierarchy, making it easier to handle errors in a more organized way.\n",
    "Encapsulate the error-handling logic within the exception class itself, making the code more modular and easier to maintain.\n",
    "Here's an example:\n",
    "\n"
   ]
  },
  {
   "cell_type": "code",
   "execution_count": null,
   "id": "94b477af-65a9-4eea-a993-4cb82d12baae",
   "metadata": {},
   "outputs": [],
   "source": [
    "class BankAccountError(Exception):\n",
    "    pass\n",
    "\n",
    "class InsufficientFundsError(BankAccountError):\n",
    "    def __init__(self, message=\"Insufficient funds\"):\n",
    "        self.message = message\n",
    "        super().__init__(self.message)\n",
    "\n",
    "class InvalidAmountError(BankAccountError):\n",
    "    def __init__(self, message=\"Invalid amount\"):\n",
    "        self.message = message\n",
    "        super().__init__(self.message)\n",
    "\n",
    "class BankAccount:\n",
    "    def __init__(self, balance):\n",
    "        if balance < 0:\n",
    "            raise InvalidAmountError(\"Initial balance cannot be negative.\")\n",
    "        self.balance = balance\n",
    "\n",
    "    def deposit(self, amount):\n",
    "        if amount <= 0:\n",
    "            raise InvalidAmountError(\"Deposit amount must be positive.\")\n",
    "        self.balance += amount\n",
    "\n",
    "    def withdraw(self, amount):\n",
    "        if amount <= 0:\n",
    "            raise InvalidAmountError(\"Withdrawal amount must be positive.\")\n",
    "        if amount > self.balance:\n",
    "            raise InsufficientFundsError(\"Cannot withdraw more than available balance.\")\n",
    "        self.balance -= amount"
   ]
  },
  {
   "cell_type": "code",
   "execution_count": null,
   "id": "43766804-6467-42e1-8615-1d8a9e76b55a",
   "metadata": {},
   "outputs": [],
   "source": [
    "In this example, we define three custom exceptions (BankAccountError, InsufficientFundsError, and InvalidAmountError) that extend the built-in Exception class. The BankAccount class uses these custom exceptions to handle errors related to bank account transactions.\n",
    "\n",
    "The __init__() method of the BankAccount class checks whether the initial balance is negative and raises an InvalidAmountError if it is. The deposit() and withdraw() methods check whether the deposit or withdrawal amount is positive and raise an InvalidAmountError if it is not. The withdraw() method also checks whether the withdrawal amount is greater than the available balance and raises an InsufficientFundsError if it is.\n",
    "\n",
    "By using custom exceptions in this way, we can encapsulate the error-handling logic within the exception classes themselves and provide more informative error messages for each type of error. This makes the code more modular and easier to maintain."
   ]
  },
  {
   "cell_type": "code",
   "execution_count": null,
   "id": "040b18c5-f308-4b07-97d9-b7663d5a145c",
   "metadata": {},
   "outputs": [],
   "source": [
    "##Q5.here's an example of how to create a custom exception class and use it to handle an exception:"
   ]
  }
 ],
 "metadata": {
  "kernelspec": {
   "display_name": "Python 3 (ipykernel)",
   "language": "python",
   "name": "python3"
  },
  "language_info": {
   "codemirror_mode": {
    "name": "ipython",
    "version": 3
   },
   "file_extension": ".py",
   "mimetype": "text/x-python",
   "name": "python",
   "nbconvert_exporter": "python",
   "pygments_lexer": "ipython3",
   "version": "3.10.8"
  }
 },
 "nbformat": 4,
 "nbformat_minor": 5
}
